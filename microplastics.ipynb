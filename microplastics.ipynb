{
 "cells": [
  {
   "cell_type": "markdown",
   "metadata": {
    "vscode": {
     "languageId": "bat"
    }
   },
   "source": [
    "**questions**\n",
    "* how many nanograms of pthaltes do you ingest during your daily car commute? \n",
    "* what about alternatives such as biking/walking (avg pthalates in air vs in car)? \n",
    "* Does spending more time outside yield higher risk? If so, by how much?"
   ]
  },
  {
   "cell_type": "markdown",
   "metadata": {},
   "source": [
    "> A study conducted in Norway indicated that aggregate particles generated from the wear of vehicle tyres and the road\n",
    "surface, typically referred to as tyre road wear particles\n",
    "(TRWPs), were the most important single source of primary\n",
    "microplastics to the natural environment (Sundt et al. 2014). It\n",
    "further stated that “a significant portion have the potential to\n",
    "reach water bodies and the ocean, while some is released\n",
    "directly into the sea”\n",
    "\n",
    ">  Tyre particles were identified by visual identification and a subsample confirmed as tyre wear by\n",
    "GC-MS using N-cyclohexyl-2-benzothiazolamine (NCBA) as a marker. The abundance of tyre wear within roadside drains was\n",
    "greater in areas associated with increased braking and accelerating than that with high traffic densities (p = < 0.05). Tyre particle\n",
    "abundance in the natural environment ranged from 0.6 ± 0.33 to 65 ± 7.36 in 5 mL of material, with some evidence of decline\n",
    "with distance from the road. This study offers preliminary data regarding the generation and abundance of this under-researched\n",
    "microplastic.\n",
    "\n",
    "> Analyze 16 diff proteins (including vegan beef) and look at avg consumption of MPs: https://www.sciencedirect.com/science/article/pii/S0269749123022352?via%3Dihub"
   ]
  },
  {
   "cell_type": "markdown",
   "metadata": {},
   "source": []
  }
 ],
 "metadata": {
  "language_info": {
   "name": "python"
  }
 },
 "nbformat": 4,
 "nbformat_minor": 2
}
